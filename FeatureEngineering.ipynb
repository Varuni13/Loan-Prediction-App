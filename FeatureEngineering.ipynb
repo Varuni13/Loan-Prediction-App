{
  "cells": [
    {
      "cell_type": "code",
      "execution_count": 1,
      "metadata": {
        "id": "AYJmmsRQbWbQ"
      },
      "outputs": [
        {
          "name": "stdout",
          "output_type": "stream",
          "text": [
            "Requirement already satisfied: dask in c:\\users\\varuni singh\\appdata\\local\\programs\\python\\python310\\lib\\site-packages (2025.2.0)\n",
            "Requirement already satisfied: click>=8.1 in c:\\users\\varuni singh\\appdata\\local\\programs\\python\\python310\\lib\\site-packages (from dask) (8.1.8)\n",
            "Requirement already satisfied: cloudpickle>=3.0.0 in c:\\users\\varuni singh\\appdata\\local\\programs\\python\\python310\\lib\\site-packages (from dask) (3.1.1)\n",
            "Requirement already satisfied: fsspec>=2021.09.0 in c:\\users\\varuni singh\\appdata\\local\\programs\\python\\python310\\lib\\site-packages (from dask) (2025.3.0)\n",
            "Requirement already satisfied: packaging>=20.0 in c:\\users\\varuni singh\\appdata\\roaming\\python\\python310\\site-packages (from dask) (24.2)\n",
            "Requirement already satisfied: partd>=1.4.0 in c:\\users\\varuni singh\\appdata\\local\\programs\\python\\python310\\lib\\site-packages (from dask) (1.4.2)\n",
            "Requirement already satisfied: pyyaml>=5.3.1 in c:\\users\\varuni singh\\appdata\\local\\programs\\python\\python310\\lib\\site-packages (from dask) (6.0.2)\n",
            "Requirement already satisfied: toolz>=0.10.0 in c:\\users\\varuni singh\\appdata\\local\\programs\\python\\python310\\lib\\site-packages (from dask) (1.0.0)\n",
            "Requirement already satisfied: importlib_metadata>=4.13.0 in c:\\users\\varuni singh\\appdata\\local\\programs\\python\\python310\\lib\\site-packages (from dask) (8.6.1)\n",
            "Requirement already satisfied: colorama in c:\\users\\varuni singh\\appdata\\roaming\\python\\python310\\site-packages (from click>=8.1->dask) (0.4.6)\n",
            "Requirement already satisfied: zipp>=3.20 in c:\\users\\varuni singh\\appdata\\local\\programs\\python\\python310\\lib\\site-packages (from importlib_metadata>=4.13.0->dask) (3.21.0)\n",
            "Requirement already satisfied: locket in c:\\users\\varuni singh\\appdata\\local\\programs\\python\\python310\\lib\\site-packages (from partd>=1.4.0->dask) (1.0.0)\n",
            "Note: you may need to restart the kernel to use updated packages.\n",
            "Requirement already satisfied: pyarrow in c:\\users\\varuni singh\\appdata\\local\\programs\\python\\python310\\lib\\site-packages (19.0.1)\n",
            "Note: you may need to restart the kernel to use updated packages.\n"
          ]
        }
      ],
      "source": [
        "%pip install dask\n",
        "%pip install pyarrow\n"
      ]
    },
    {
      "cell_type": "code",
      "execution_count": 2,
      "metadata": {
        "colab": {
          "base_uri": "https://localhost:8080/"
        },
        "id": "IpcjiwgWCXCw",
        "outputId": "0dcf3326-89b2-479a-bfbc-5861b7b2b687"
      },
      "outputs": [
        {
          "name": "stdout",
          "output_type": "stream",
          "text": [
            "Requirement already satisfied: dask in c:\\users\\varuni singh\\appdata\\local\\programs\\python\\python310\\lib\\site-packages (2025.2.0)\n",
            "Requirement already satisfied: click>=8.1 in c:\\users\\varuni singh\\appdata\\local\\programs\\python\\python310\\lib\\site-packages (from dask) (8.1.8)\n",
            "Requirement already satisfied: cloudpickle>=3.0.0 in c:\\users\\varuni singh\\appdata\\local\\programs\\python\\python310\\lib\\site-packages (from dask) (3.1.1)\n",
            "Requirement already satisfied: fsspec>=2021.09.0 in c:\\users\\varuni singh\\appdata\\local\\programs\\python\\python310\\lib\\site-packages (from dask) (2025.3.0)\n",
            "Requirement already satisfied: packaging>=20.0 in c:\\users\\varuni singh\\appdata\\roaming\\python\\python310\\site-packages (from dask) (24.2)\n",
            "Requirement already satisfied: partd>=1.4.0 in c:\\users\\varuni singh\\appdata\\local\\programs\\python\\python310\\lib\\site-packages (from dask) (1.4.2)\n",
            "Requirement already satisfied: pyyaml>=5.3.1 in c:\\users\\varuni singh\\appdata\\local\\programs\\python\\python310\\lib\\site-packages (from dask) (6.0.2)\n",
            "Requirement already satisfied: toolz>=0.10.0 in c:\\users\\varuni singh\\appdata\\local\\programs\\python\\python310\\lib\\site-packages (from dask) (1.0.0)\n",
            "Requirement already satisfied: importlib_metadata>=4.13.0 in c:\\users\\varuni singh\\appdata\\local\\programs\\python\\python310\\lib\\site-packages (from dask) (8.6.1)\n",
            "Requirement already satisfied: colorama in c:\\users\\varuni singh\\appdata\\roaming\\python\\python310\\site-packages (from click>=8.1->dask) (0.4.6)\n",
            "Requirement already satisfied: zipp>=3.20 in c:\\users\\varuni singh\\appdata\\local\\programs\\python\\python310\\lib\\site-packages (from importlib_metadata>=4.13.0->dask) (3.21.0)\n",
            "Requirement already satisfied: locket in c:\\users\\varuni singh\\appdata\\local\\programs\\python\\python310\\lib\\site-packages (from partd>=1.4.0->dask) (1.0.0)\n",
            "Note: you may need to restart the kernel to use updated packages.\n",
            "Requirement already satisfied: pyarrow in c:\\users\\varuni singh\\appdata\\local\\programs\\python\\python310\\lib\\site-packages (19.0.1)\n",
            "Note: you may need to restart the kernel to use updated packages.\n"
          ]
        }
      ],
      "source": [
        "%pip install dask\n",
        "%pip install pyarrow\n",
        "\n",
        "\n",
        "import dask.dataframe as dd\n",
        "# Load your dataset as a Dask DataFrame\n",
        "loan_master = dd.read_csv(r\"C:\\Users\\Varuni Singh\\Downloads\\Flask\\Flask\\loan_approval_dataset.csv\")  # Replace with the actual file path\n",
        "loan_master.columns = loan_master.columns.str.replace(' ', '')\n",
        "# Perform computations directly on the Dask DataFrame\n",
        "loan_master = loan_master.assign(\n",
        "    DTI=(loan_master['loan_amount'] / loan_master['income_annum']).astype('float32'),\n",
        "    LTV=(loan_master['loan_amount'] /\n",
        "         (loan_master['residential_assets_value'] + loan_master['commercial_assets_value'])).astype('float32'),\n",
        "    installment_size=(loan_master['loan_amount'] / loan_master['loan_term']).astype('float32'),\n",
        "    income_per_dependent=(loan_master['income_annum'] / (loan_master['no_of_dependents'] + 1)).astype('float32'),\n",
        "    low_cibil_flag=(loan_master['cibil_score'] < 400).astype('int8'),\n",
        "    high_dti_flag=((loan_master['loan_amount'] / loan_master['income_annum']) > 0.5).astype('int8'),\n",
        "    education_income=(loan_master['education'] * loan_master['income_annum']).astype('float32')\n",
        ")\n",
        "\n",
        "# Select only the relevant columns to create the final `data_fe`\n",
        "data_fe = loan_master[['DTI', 'LTV', 'installment_size', 'income_per_dependent',\n",
        "                       'low_cibil_flag', 'high_dti_flag', 'education_income']]\n",
        "\n",
        "# Step 1: Optimize data types for RAM efficiency\n",
        "data_fe['DTI'] = data_fe['DTI'].astype('float32')\n",
        "data_fe['LTV'] = data_fe['LTV'].astype('float32')\n",
        "data_fe['installment_size'] = data_fe['installment_size'].astype('float32')\n",
        "data_fe['income_per_dependent'] = data_fe['income_per_dependent'].astype('float32')\n",
        "data_fe['low_cibil_flag'] = data_fe['low_cibil_flag'].astype('int8')\n",
        "data_fe['high_dti_flag'] = data_fe['high_dti_flag'].astype('int8')\n",
        "data_fe['education_income'] = data_fe['education_income'].astype('float32')\n",
        "\n",
        "#data_fe = data_fe.set_index('DTI')\n",
        "#data_fe = data_fe.repartition(npartitions=10)\n",
        "#data_fe.to_csv('/content/drive/MyDrive/Colab Notebooks/Data/LoanApproval/data_fe_*.csv', index=False)\n",
        "\n",
        "## Trigger computation for memory usage monitoring\n",
        "#loan_master_memory = loan_master.memory_usage(deep=True).sum().compute()\n",
        "#data_fe_memory = data_fe.memory_usage(deep=True).sum().compute()\n",
        "\n",
        "# Print memory usage\n",
        "#print(\"Memory usage before optimization:\", loan_master_memory)\n",
        "#print(\"Memory usage after optimization:\", data_fe_memory)\n",
        "\n",
        "# Visualize the final DataFrame (triggers computation for the first few rows)\n",
        "#data_fe.head().compute()\n"
      ]
    }
  ],
  "metadata": {
    "colab": {
      "provenance": []
    },
    "kernelspec": {
      "display_name": "Python 3",
      "name": "python3"
    },
    "language_info": {
      "codemirror_mode": {
        "name": "ipython",
        "version": 3
      },
      "file_extension": ".py",
      "mimetype": "text/x-python",
      "name": "python",
      "nbconvert_exporter": "python",
      "pygments_lexer": "ipython3",
      "version": "3.10.11"
    }
  },
  "nbformat": 4,
  "nbformat_minor": 0
}
